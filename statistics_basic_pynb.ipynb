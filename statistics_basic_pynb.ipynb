{
  "nbformat": 4,
  "nbformat_minor": 0,
  "metadata": {
    "colab": {
      "provenance": [],
      "authorship_tag": "ABX9TyPg053QjAfyiNvX4ot1tYre",
      "include_colab_link": true
    },
    "kernelspec": {
      "name": "python3",
      "display_name": "Python 3"
    },
    "language_info": {
      "name": "python"
    }
  },
  "cells": [
    {
      "cell_type": "markdown",
      "metadata": {
        "id": "view-in-github",
        "colab_type": "text"
      },
      "source": [
        "<a href=\"https://colab.research.google.com/github/nidhikumari319/statistics-basic/blob/main/statistics_basic_pynb.ipynb\" target=\"_parent\"><img src=\"https://colab.research.google.com/assets/colab-badge.svg\" alt=\"Open In Colab\"/></a>"
      ]
    },
    {
      "cell_type": "markdown",
      "source": [
        "#Q1. Explain the different types of data (qualitative and quantitative) and provide examples of each. Discuss nominal, ordinal, interval, and ratio scales.\n",
        "\n",
        "##Ans:\n",
        "####The different type of data are:\n",
        "\n",
        "       1.Qualitative data: it contains categirical data like string\n",
        "      .It is two type nominal data and ordinal data\n",
        "\n",
        "\n",
        "       nominal data: in nominal data there is no any order  in data\n",
        "\n",
        "       eg: you can not say blood group A+ is greater than B+\n",
        "\n",
        "\n",
        "      ordinal data: in ordinal data there is order in data\n",
        "      eg: rank like 1st,2nd ,3rd position  here there is an order in data\n",
        "\n",
        "      2.Quantitative data:quantative data are numeric data which are two type 1.discrete 2.continuous\n",
        "\n",
        "      Discrete data contain finite whole number\n",
        "      eg: number of student in class\n",
        "\n",
        "      Continuous data contain real number(natural no.,decimal no,fraction no.) eg: hight=2.3,weight=61.3\n",
        "\n",
        "\n",
        "####here Discussing the nominal, ordinal, interval, and ratio scales.\n",
        "\n",
        "      Nominal scale data: it  is qualitative  or categorical data,here no order in data,\n",
        "      eg:gender,colour\n",
        "\n",
        "      Ordinal scale data: it  is qualitative data,here order matters in data, it is categorical data,here difference cannot be measured.\n",
        "      eg:\n",
        "      rank,grades,education qualification\n",
        "\n",
        "      Interval scale data:it is quantative or numeric data and  order matters ,here  difference can be measured .temperature is innterval scale data.it doesnot have compulsorily 0 starting value\n",
        "      eg: temperature,hight,weight\n",
        "\n",
        "      Ratio scales data::it is quantative or numeric data and  order matters ,here  difference and ratio can be measureble .it does have compulsorily 0 starting value\n",
        "      eg: hight,weight,time age\n"
      ],
      "metadata": {
        "id": "4bHxwW3H0nze"
      }
    },
    {
      "cell_type": "markdown",
      "source": [
        "##2. What are the measures of central tendency, and when should you use each? Discuss the mean, median, and mode with examples and situations where each is appropriate.\n",
        "\n",
        "Ans:\n",
        "\n",
        "     measures of central tendency: it try to find out that one values which represent the whole data.\n",
        "\n",
        "####we are using this in:\n",
        "\n",
        "     If it's symmetrical: Use mean.\n",
        "\n",
        "     If it's skewed or has outliers: Use median.\n",
        "\n",
        "     If you're looking at categories or frequencies: Use mode.\n",
        "\n",
        "     mean: summing up all the observation by total no of observation.\n",
        "\n",
        "     eg:the score of the student: 34,45,67,89\n",
        "\n",
        "               mean=34+45+67+89/4=58.75\n",
        "\n",
        "     median:The median is the middle value when data is arranged in ascending order. If there’s an even number of values, it’s the average of the two middle numbers.\n",
        "\n",
        "     eg:\n",
        "     For the test scores: 78, 85, 88, 90, 92 (sorted):\n",
        "\n",
        "                    Median=88\n",
        "\n",
        "     If the scores were: 78, 85, 88, 90, 92, 95:\n",
        "\n",
        "                    median =80+90/2\n",
        "\n",
        "                    median =89\n",
        "\n",
        "                    \n",
        "\n",
        "     each is appropriate in Exploratory Data Analysis (EDA), Data Preparation, and Feature Engineering."
      ],
      "metadata": {
        "id": "a4vcncxO9Wxr"
      }
    },
    {
      "cell_type": "markdown",
      "source": [
        "#3. Explain the concept of dispersion. How do variance and standard deviation measure the spread of data?\n",
        "ans:\n",
        "\n",
        "       Concept of Dispersion\n",
        "        Dispersion means how spread out the data is. It shows whether the data points are close to the center (like the mean) or far apart.\n",
        "\n",
        "        Small Dispersion: Data points are close to the center.\n",
        "        Large Dispersion: Data points are spread out .\n",
        "\n",
        "\n",
        "     Variance and Standard Deviation\n",
        "       Variance and standard deviation are tools to measure dispersion.\n",
        "\n",
        "       Variance:\n",
        "          Variance calculates the average squared distance from the mean value.\n",
        "\n",
        "          Big Variance: Data points are far from the mean (more spread).\n",
        "\n",
        "          Small Variance: Data points are close to the mean (less spread).\n",
        "\n",
        "\n",
        "\n",
        "     Standard Deviation (SD):\n",
        "        SD is the square root of the variance.\n",
        "        sd is a measure of how spread out numbers are.\n",
        "\n",
        "     Why Use Variance and Standard Deviation?\n",
        "\n",
        "       Variance: Useful in understanding the spread mathematically but uses squared units.\n",
        "       Standard Deviation: Easier to interpret because it uses the same units as the data.\n"
      ],
      "metadata": {
        "id": "edBa8VvjWNpR"
      }
    },
    {
      "cell_type": "markdown",
      "source": [
        "#4. What is a box plot, and what can it tell you about the distribution of data?\n",
        "ans:\n",
        "\n",
        "      Box Plot (Box-and-Whisker Plot)\n",
        "      A box plot is a visual tool used to summarize the distribution of a dataset. It shows the data's central tendency, variability, and outliers.\n",
        "\n",
        "      What Can a Box Plot Tell You?\n",
        "\n",
        "      Spread of Data:\n",
        "\n",
        "       Width of the box shows variability (IQR).\n",
        "        Longer whiskers = more spread\n",
        "        shorter whiskers = less spread.\n",
        "\n",
        "      Symmetry or Skewness:\n",
        "\n",
        "      If the median line is centered in the box, the data is symmetric.\n",
        "        If not, the data is skewed.\n",
        "\n",
        "      Longer whisker on one side = skew in that direction.\n",
        "\n",
        "      Outliers:\n",
        "      Dots outside the whiskers identify unusual values.\n",
        "\n",
        "     Comparison Between Groups:\n",
        "     Multiple box plots can compare distributions across different categories.\n",
        "\n",
        "\n"
      ],
      "metadata": {
        "id": "Sguv4Eiua0kM"
      }
    },
    {
      "cell_type": "markdown",
      "source": [
        "#5. Discuss the role of random sampling in making inferences about populations.\n",
        "ans:\n"
      ],
      "metadata": {
        "id": "dRTS22qcjLrJ"
      }
    },
    {
      "cell_type": "markdown",
      "source": [
        "#6. Explain the concept of skewness and its types. How does skewness affect the interpretation of data?\n",
        "ans:\n",
        "\n",
        "      Skewness refers to the asymmetry  in the distribution of data. It shows whether the data is inclined to some side or not\n",
        "\n",
        "     Types of skewness:\n",
        "\n",
        "     1.No skewness: no skewness means there is no any inclination or symmetric data\n",
        "      skewness=0, here mean,median and mode are equal\n",
        "\n",
        "\n",
        "      2.right skewed data:it is a positive skewed data, and inclination of data is on right side ,here mean>= median>=mode.\n",
        "        eg: log normal distributation\n",
        "\n",
        "\n",
        "      3.left skewed data:it is negative skewed data and inclination of data is on left side ,here mode>=median>=mode.\n",
        "\n",
        "###affects of  interpretation of data:\n",
        "\n",
        "ans:\n",
        "\n",
        "      Positive Skew\n",
        "\n",
        "      The mean is higher than the \"typical\" value.\n",
        "      Use the median to better understand the center of the data.\n",
        "\n",
        "      Negative Skew\n",
        "\n",
        "      The mean is lower than the \"typical\" value.\n",
        "      Again, the median is more reliable.\n",
        "\n",
        "      No Skewness\n",
        "\n",
        "      The mean, median, and mode are similar.\n",
        "      The mean, median, and mode are similar, so any of them can describe the data well.\n"
      ],
      "metadata": {
        "id": "jHwbEw4fnS8b"
      }
    },
    {
      "cell_type": "markdown",
      "source": [
        "#7. What is the interquartile range (IQR), and how is it used to detect outliers?\n",
        "ans:\n",
        "\n",
        "      Interquartile range:The Interquartile Range (IQR) is a way to measure how spread out the middle part of your data is.\n",
        "\n",
        "      How to Calculate IQR (Step-by-Step):\n",
        "\n",
        "      Sort the data (put numbers in order).\n",
        "\n",
        "      Find Q1 (First Quartile): The middle value of the first half of the data (25% point).\n",
        "\n",
        "     Find Q3 (Third Quartile): The middle value of the second half of the data (75% point).\n",
        "\n",
        "\n",
        "     IQR = Q3 - Q1: Subtract Q1 from Q3 to find the range of the middle 50% of the data.\n",
        "\n",
        "     How is IQR Used to Detect Outliers?\n",
        "\n",
        "\n",
        "     Outliers are values that are very small or very big compared to the rest of the data. IQR helps us find them using this rule:\n",
        "\n",
        "     Calculate IQR: IQR=𝑄3−𝑄1\n",
        "\n",
        "     Find Outlier Limits:\n",
        "\n",
        "     Lower Limit = Q1−1.5×IQR\n",
        "\n",
        "      Upper Limit = Q3+1.5×IQR\n",
        "\n",
        "     Identify Outliers:\n",
        "     Any value below the lower limit or above the upper limit is an outlier.\n",
        "\n",
        "\n"
      ],
      "metadata": {
        "id": "01wuGv62doin"
      }
    },
    {
      "cell_type": "markdown",
      "source": [
        "#8. Discuss the conditions under which the binomial distribution is used.\n",
        "ans:\n",
        "\n",
        "      Use the binomial distribution when:\n",
        "\n",
        "     You repeat something a set number of times.\n",
        "\n",
        "     Each time, there are only two possible outcomes (like success/failure).\n",
        "\n",
        "     The chance of success doesn’t change.\n",
        "\n",
        "     Each try is independent."
      ],
      "metadata": {
        "id": "a0NpvsfNf7_2"
      }
    },
    {
      "cell_type": "markdown",
      "source": [
        "#9. Explain the properties of the normal distribution and the empirical rule (68-95-99.7 rule).\n",
        "\n",
        "ans:\n",
        "\n",
        "        Properties  of Normal Distribution:\n",
        "\n",
        "        1.Bell Shape: Looks like a hill or bell.\n",
        "\n",
        "        2.Symmetrical: Left and right sides are the same.\n",
        "\n",
        "        3.Mean = Median = Mode: The center value is the same for all three.\n",
        "\n",
        "        4.Spread by Standard Deviation: The width of the curve depends on how spread out the data is.\n",
        "\n",
        "\n",
        "      Empirical Rule (68-95-99.7 Rule):\n",
        "\n",
        "     This rule shows how much data falls close to the middle:\n",
        "\n",
        "     68% of data is within 1 standard deviation of the mean.\n",
        "\n",
        "     95% of data is within 2 standard deviations of the mean.\n",
        "\n",
        "     99.7% of data is within 3 standard deviations of the mean.\n",
        "\n",
        "     In short: A normal distribution is a symmetrical bell curve, and the empirical rule shows how much data is close to the middle."
      ],
      "metadata": {
        "id": "XLGtmINIiBZl"
      }
    },
    {
      "cell_type": "markdown",
      "source": [
        "#10. Provide a real-life example of a Poisson process and calculate the probability for a specific event?\n",
        "ans:\n",
        "example:\n",
        "\n",
        "Imagine a call center that receives customer service calls. On average, the call center gets 3 calls per hour. We want to find the probability that the center will receive exactly 5 calls in the next hour.\n",
        "\n",
        "calculation:\n",
        "\n",
        "        λ=3, p(x=5)=?\n",
        "\n",
        "        p(x=5)=e -3*5^3/5!\n",
        "\n",
        "        =0.0498*243/120\n",
        "\n",
        "        =12.1/120\n",
        "\n",
        "        p(x=5)=0.101\n",
        "​\n",
        "\n"
      ],
      "metadata": {
        "id": "eSKgxrhlkYFG"
      }
    },
    {
      "cell_type": "markdown",
      "source": [
        "#11. Explain what a random variable is and differentiate between discrete and continuous random variables?\n",
        "\n",
        "ans:\n",
        "\n",
        "         random variable:\n",
        "         A random variable is a value that can change based on the outcome of a random event.\n",
        "\n",
        "         1. Discrete Random Variable\n",
        "         A discrete random variable is one that can only take specific, countable values.\n",
        "         You can list or count the possible outcomes.\n",
        "\n",
        "         2. Continuous Random Variable\n",
        "         A continuous random variable can take any value within a certain range, and you cannot count all possible values.\n",
        "         It can have infinite possible outcomes.\n",
        "\n",
        "\n"
      ],
      "metadata": {
        "id": "a9D507gSqWJg"
      }
    },
    {
      "cell_type": "markdown",
      "source": [
        "#12. Provide an example dataset, calculate both covariance and correlation, and interpret the results.\n",
        "ans:\n",
        "\n",
        "          Hours Studied(x)\tTest Score(y)\n",
        "          1\t                   45\n",
        "          2\t                   50\n",
        "          3\t                   55\n",
        "          4              \t     60\n",
        "          5\t                   65\n",
        "\n",
        "Now, let's calculate covariance and correlation between these two variables.\n",
        "\n",
        "### covariance:\n",
        "\n",
        "         n=5\n",
        "         xˉ=1+2+3+4+5/5\n",
        "           =15/5\n",
        "         xˉ=3\n",
        "\n",
        "         yˉ=45+50+55+60+65/5\n",
        "           =275/5\n",
        "         yˉ=55\n",
        "\n",
        "         (x-xˉ)          (y-yˉ)\n",
        "          -2              -10  \n",
        "          -1              -5\n",
        "           0               0\n",
        "           1               5\n",
        "           2              10\n",
        "\n",
        "         cov(x,y)=((-2)*(-10)+(-1)*(-5)+0*0+1*5+2*10)/(5-1)\n",
        "         cov(x,y)=50/2\n",
        "         cov(x,y)=12.5\n",
        "         \n",
        "###correlation:\n",
        "              \n",
        "              σ(X,y)=cov(x,y)/σX*σy\n",
        "              σX=1.41\n",
        "              σy=7.07\n",
        "              σ(X,y)=12.5/(1.41)*(7.07)\n",
        "              σ(X,y)=1.255\n",
        "\n",
        "\n",
        "### interpret the results:\n",
        "\n",
        "             covariance =12.5 it means the two features(x,y) are positively releated\n",
        "               \n",
        "            correlation=1.255 it means features of (x,y) are positively colerated\n",
        "\n"
      ],
      "metadata": {
        "id": "tZSt1vpeuTX6"
      }
    },
    {
      "cell_type": "markdown",
      "source": [],
      "metadata": {
        "id": "BSJtrzgnBjgM"
      }
    },
    {
      "cell_type": "code",
      "source": [
        "12.5/(1.41)*(7.07)"
      ],
      "metadata": {
        "id": "uTLaotEKnR6k",
        "colab": {
          "base_uri": "https://localhost:8080/"
        },
        "outputId": "630ecf6f-2496-4df6-d5c6-12f612454f02"
      },
      "execution_count": null,
      "outputs": [
        {
          "output_type": "execute_result",
          "data": {
            "text/plain": [
              "62.67730496453901"
            ]
          },
          "metadata": {},
          "execution_count": 1
        }
      ]
    },
    {
      "cell_type": "code",
      "source": [],
      "metadata": {
        "id": "MsHE24qs9K-x"
      },
      "execution_count": null,
      "outputs": []
    }
  ]
}